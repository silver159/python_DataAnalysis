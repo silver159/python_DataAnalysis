{
 "cells": [
  {
   "cell_type": "code",
   "execution_count": 1,
   "id": "453c6aa4",
   "metadata": {},
   "outputs": [],
   "source": [
    "import warnings\n",
    "warnings.filterwarnings(action='ignore')\n",
    "%config Completer.use_jedi = False \n",
    "import numpy as np"
   ]
  },
  {
   "cell_type": "markdown",
   "id": "256110e6",
   "metadata": {},
   "source": [
    "numpy는 다차원 배열을 지원하고 numpy 배열 구조는 shape으로 표현한다.  \n",
    "shape은 배열 구조를 튜플 자료형을 사용해서 정의한다.  \n",
    "예를 들면 28 * 28 컬러 사진은 폭이 28 픽셀, 높이가 28 픽셀, 각 픽셀은 3개의 채녈(RGB)로 구성된 구조를 가진다.  \n",
    "따라서 컬러 사진의 데이터 구조는 shape(28, 28, 3)인 3차원 배열이 된다.  \n",
    "다차원 배열은 입체적인 구조를 가지며 데이터 차원은 여러 갈래의 데이터 방향(axis)을 가진다.  \n",
    "3차원 배열의 데이터 방향은 면은 axis=0, 행은 axis=1, 열은 axis=2로 지정한다.\n",
    "\n",
    "<img src=\"./images/numpyImage01.jpg\" align=\"left\" width=\"800\"/>"
   ]
  },
  {
   "cell_type": "code",
   "execution_count": 2,
   "id": "34493770",
   "metadata": {
    "scrolled": true
   },
   "outputs": [
    {
     "name": "stdout",
     "output_type": "stream",
     "text": [
      "[ 0  1  2  3  4  5  6  7  8  9 10 11 12 13 14 15 16 17 18 19 20 21 22 23\n",
      " 24 25 26 27 28 29 30 31]\n",
      "32\n",
      "<class 'numpy.ndarray'>\n",
      "(32,)\n"
     ]
    }
   ],
   "source": [
    "arr = np.arange(32)\n",
    "print(arr)\n",
    "print(len(arr))\n",
    "print(type(arr))\n",
    "print(arr.shape)"
   ]
  },
  {
   "cell_type": "code",
   "execution_count": 3,
   "id": "2bb7204f",
   "metadata": {},
   "outputs": [
    {
     "name": "stdout",
     "output_type": "stream",
     "text": [
      "[[[ 0  1  2  3]\n",
      "  [ 4  5  6  7]]\n",
      "\n",
      " [[ 8  9 10 11]\n",
      "  [12 13 14 15]]\n",
      "\n",
      " [[16 17 18 19]\n",
      "  [20 21 22 23]]\n",
      "\n",
      " [[24 25 26 27]\n",
      "  [28 29 30 31]]]\n",
      "(4, 2, 4)\n"
     ]
    }
   ],
   "source": [
    "# reshape() 메소드 numpy 배열의 차원을 변경한다.\n",
    "# => 전체 데이터 개수는 같아야 한다.\n",
    "v = arr.reshape(4,2,4)\n",
    "print(v)\n",
    "print(v.shape)"
   ]
  },
  {
   "cell_type": "markdown",
   "id": "c5c9a362",
   "metadata": {},
   "source": [
    "<img src=\"./images/shape1.png\" align=\"left\" width=\"800\"/>"
   ]
  },
  {
   "cell_type": "markdown",
   "id": "d15bac26",
   "metadata": {},
   "source": [
    "<img src=\"./images/shape2.png\" align=\"left\" width=\"800\"/>"
   ]
  },
  {
   "cell_type": "markdown",
   "id": "5d2f1755",
   "metadata": {},
   "source": [
    "numpy의 sum() 메소드 작동 방식"
   ]
  },
  {
   "cell_type": "code",
   "execution_count": 4,
   "id": "41db5690",
   "metadata": {},
   "outputs": [
    {
     "name": "stdout",
     "output_type": "stream",
     "text": [
      "3\n"
     ]
    }
   ],
   "source": [
    "# sum() 메소드의 axis 속성의 기본값은 None이고 aixs는 대상 \n",
    "# 차원보다 작은 값을 설정한다.\n",
    "# 위의 예에서 데이터의 차원이 3이기 때문에 axis 속성은 2까지 \n",
    "# 지정할 수 있다.\n",
    "print(v.ndim)"
   ]
  },
  {
   "cell_type": "code",
   "execution_count": 5,
   "id": "e40dfd3f",
   "metadata": {},
   "outputs": [
    {
     "name": "stdout",
     "output_type": "stream",
     "text": [
      "(4, 2, 4)\n",
      "496\n",
      "496\n"
     ]
    }
   ],
   "source": [
    "# axis=None\n",
    "# axis를 기본값으로 실행하면 대상 데이터의 모든 요소의 합계를 \n",
    "# 리턴한다. => 면, 행, 열을 구분하지 않는다.\n",
    "# 대상 데이터에 포함된 모든 요소를 단순히 합산하는 연산이 \n",
    "# 실행된다.\n",
    "print(v.shape)\n",
    "print(v.sum())\n",
    "print(v.sum(axis=None))"
   ]
  },
  {
   "cell_type": "code",
   "execution_count": 6,
   "id": "ae1754e3",
   "metadata": {},
   "outputs": [
    {
     "name": "stdout",
     "output_type": "stream",
     "text": [
      "(2, 4)\n",
      "2\n",
      "[[48 52 56 60]\n",
      " [64 68 72 76]]\n"
     ]
    }
   ],
   "source": [
    "# axis=0\n",
    "# axis=0은 x축을 기준으로 계산한 합계를 리턴한다.\n",
    "# shape이 (4,2,4)인 데이터를 x축을 기준으로 계산하면 면이 \n",
    "# 제거되고 shape은 (2,4)가 리턴된다.\n",
    "res = v.sum(axis=0)\n",
    "print(res.shape)\n",
    "print(res.ndim)\n",
    "print(res)"
   ]
  },
  {
   "cell_type": "markdown",
   "id": "4f4ce953",
   "metadata": {},
   "source": [
    "<img src=\"./images/shape3.png\" align=\"left\" width=\"800\"/>"
   ]
  },
  {
   "cell_type": "markdown",
   "id": "5783ed13",
   "metadata": {},
   "source": [
    "<img src=\"./images/shape4.png\" align=\"left\" width=\"800\"/>"
   ]
  },
  {
   "cell_type": "code",
   "execution_count": 7,
   "id": "8f5c83dc",
   "metadata": {},
   "outputs": [
    {
     "name": "stdout",
     "output_type": "stream",
     "text": [
      "(4, 4)\n",
      "2\n",
      "[[ 4  6  8 10]\n",
      " [20 22 24 26]\n",
      " [36 38 40 42]\n",
      " [52 54 56 58]]\n"
     ]
    }
   ],
   "source": [
    "# axis=1\n",
    "# axis=1은 y축을 기준으로 계산한 합계를 리턴한다.\n",
    "# shape이 (4,2,4)인 데이터를 y축을 기준으로 계산하면 행이 \n",
    "# 제거되고 shape은 (4,4)가 리턴된다.\n",
    "res = v.sum(axis=1)\n",
    "print(res.shape)\n",
    "print(res.ndim)\n",
    "print(res)"
   ]
  },
  {
   "cell_type": "markdown",
   "id": "573711bc",
   "metadata": {},
   "source": [
    "<img src=\"./images/shape5.png\" align=\"left\" width=\"800\"/>"
   ]
  },
  {
   "cell_type": "markdown",
   "id": "9ba98b47",
   "metadata": {},
   "source": [
    "<img src=\"./images/shape6.png\" align=\"left\" width=\"800\"/>"
   ]
  },
  {
   "cell_type": "code",
   "execution_count": 28,
   "id": "941c6067",
   "metadata": {},
   "outputs": [
    {
     "name": "stdout",
     "output_type": "stream",
     "text": [
      "(4, 2)\n",
      "2\n",
      "[[  6  22]\n",
      " [ 38  54]\n",
      " [ 70  86]\n",
      " [102 118]]\n"
     ]
    }
   ],
   "source": [
    "# axis=2\n",
    "# axis=2은 z축을 기준으로 계산한 합계를 리턴한다.\n",
    "# shape이 (4,2,4)인 데이터를 z축을 기준으로 계산하면 행이 \n",
    "# 제거되고 shape은 (4,2)가 리턴된다.\n",
    "res = v.sum(axis=2)\n",
    "print(res.shape)\n",
    "print(res.ndim)\n",
    "print(res)"
   ]
  },
  {
   "cell_type": "markdown",
   "id": "9e3037a9",
   "metadata": {},
   "source": [
    "<img src=\"./images/shape7.png\" align=\"left\" width=\"800\"/>"
   ]
  },
  {
   "cell_type": "markdown",
   "id": "318e2572",
   "metadata": {},
   "source": [
    "<img src=\"./images/shape8.png\" align=\"left\" width=\"800\"/>"
   ]
  }
 ],
 "metadata": {
  "kernelspec": {
   "display_name": "Python 3",
   "language": "python",
   "name": "python3"
  },
  "language_info": {
   "codemirror_mode": {
    "name": "ipython",
    "version": 3
   },
   "file_extension": ".py",
   "mimetype": "text/x-python",
   "name": "python",
   "nbconvert_exporter": "python",
   "pygments_lexer": "ipython3",
   "version": "3.6.8"
  }
 },
 "nbformat": 4,
 "nbformat_minor": 5
}
