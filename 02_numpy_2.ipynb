{
 "cells": [
  {
   "cell_type": "code",
   "execution_count": 3,
   "id": "3a7fc997",
   "metadata": {},
   "outputs": [],
   "source": [
    "import warnings\n",
    "warnings.filterwarnings(action='ignore')\n",
    "%config Completer.use_jedi = False \n",
    "import numpy as np\n",
    "\n",
    "# numpy 배열 객체 정보 출력용으로 사용할 함수 선언\n",
    "def pprint(arr):\n",
    "    print('type: {}'.format(type(arr)))\n",
    "    print('shape: {}, dimension: {}, dtype: {}'.format(arr.shape, arr.ndim, arr.dtype))\n",
    "    print('numpy 배열의 데이터\\n', arr, sep='')"
   ]
  },
  {
   "cell_type": "markdown",
   "id": "380a4ab1",
   "metadata": {},
   "source": [
    "numpy 파일 입출력\n",
    "\n",
    "numpy는 배열 객체를 바이너리(2진) 파일 또는 텍스트 파일에 저장하고 로딩하는 기능을 제공한다.  "
   ]
  },
  {
   "cell_type": "code",
   "execution_count": 4,
   "id": "f15afe2d",
   "metadata": {},
   "outputs": [],
   "source": [
    "# 메소드 이름   기능                                                 파일 포맷\n",
    "# save()        numpy 배열 객체 1개를 바이너리 파일로 저장한다.      바이너리\n",
    "# savez()       numpy 배열 객체 여러 개를 바이너리 파일로 저장한다.  바이너리\n",
    "# load()        numpy 배열 저장 파일로 부터 배열 객체를 읽어 온다.   바이너리\n",
    "# ============================================================================\n",
    "# savetxt()     numpy 배열 객체를 텍스트 파일로 저장한다.            텍스트\n",
    "# loadtxt()     텍스트 파일에 저장된 numpy 배열 객체를 읽어온다.     텍스트"
   ]
  },
  {
   "cell_type": "code",
   "execution_count": 5,
   "id": "07550bf7",
   "metadata": {},
   "outputs": [
    {
     "name": "stdout",
     "output_type": "stream",
     "text": [
      "[[9 0 0]\n",
      " [3 1 5]]\n",
      "[[9 3 2]\n",
      " [0 3 6]]\n"
     ]
    }
   ],
   "source": [
    "a = np.random.randint(0,10,(2,3))\n",
    "print(a)\n",
    "b = np.random.randint(0,10,(2,3))\n",
    "print(b)"
   ]
  },
  {
   "cell_type": "markdown",
   "id": "d396bd5c",
   "metadata": {},
   "source": [
    "numpy 배열 객체를 바이너리 파일로 저장"
   ]
  },
  {
   "cell_type": "code",
   "execution_count": 6,
   "id": "11e17d01",
   "metadata": {},
   "outputs": [],
   "source": [
    "# save(),savez() 메소드를 사용해서 배열 객체를 바이너리(2진) \n",
    "# 형태의 파일로 저장할 수 있다.\n",
    "# save() : 배열 1개를 저장한다. 확장명 => npy\n",
    "# savez() : 배열 여러 개를 저장한다. 확장명 => npz\n",
    "\n",
    "# a 배열을 바이너리 파일로 저장한다.\n",
    "# save('경로명', 배열명)\n",
    "np.save('./output/my_array1', a)\n",
    "\n",
    "# a, b 배열을 바이너리 파일로 저장한다. \n",
    "# np.save('./output/my_array2', a, b) # a 배열만 저장된다.\n",
    "# savez('경로명', 배열명1, 배열명2, ...)\n",
    "np.savez('./output/my_array2', a, b)"
   ]
  },
  {
   "cell_type": "markdown",
   "id": "0ad84f4b",
   "metadata": {},
   "source": [
    "바이너리 파일로 저장된 numpy 배열 객체 읽어오기"
   ]
  },
  {
   "cell_type": "code",
   "execution_count": 7,
   "id": "8add980d",
   "metadata": {},
   "outputs": [
    {
     "name": "stdout",
     "output_type": "stream",
     "text": [
      "[[9 0 0]\n",
      " [3 1 5]]\n"
     ]
    }
   ],
   "source": [
    "# load() 메소드로 npy, npz 파일로 부터 데이터를 읽어올 수 있다 .\n",
    "# npy 파일읽기 \n",
    "# 저장할 때는 메소드가 달라서 확장명이 다르게 붙기 때문에 \n",
    "# 파일명만 입력하면 되지만 읽어올 때는 메소드가 같아서 확장명 \n",
    "# 까지 입력해야한다.\n",
    "\n",
    "# load('경로명')\n",
    "print(np.load('./output/my_array1.npy'))"
   ]
  },
  {
   "cell_type": "code",
   "execution_count": 8,
   "id": "8ce5e3a8",
   "metadata": {},
   "outputs": [
    {
     "name": "stdout",
     "output_type": "stream",
     "text": [
      "<numpy.lib.npyio.NpzFile object at 0x0000015AE704CE48>\n",
      "[[9 0 0]\n",
      " [3 1 5]]\n",
      "[[9 3 2]\n",
      " [0 3 6]]\n"
     ]
    }
   ],
   "source": [
    "# npz 파일 읽기\n",
    "print(np.load('./output/my_array2.npz'))\n",
    "npzFile=np.load('./output/my_array2.npz')\n",
    "print(npzFile['arr_0'])\n",
    "print(npzFile['arr_1'])"
   ]
  },
  {
   "cell_type": "markdown",
   "id": "7661fc6d",
   "metadata": {},
   "source": [
    "numpy 배열 객체를 텍스트 파일로 저장"
   ]
  },
  {
   "cell_type": "code",
   "execution_count": 9,
   "id": "c3655bb1",
   "metadata": {},
   "outputs": [
    {
     "name": "stdout",
     "output_type": "stream",
     "text": [
      "[[0.27674379 0.96515647 0.09580307 0.85726687]\n",
      " [0.87477342 0.66730365 0.11606102 0.75679613]\n",
      " [0.18725765 0.85948741 0.12947658 0.96885878]]\n"
     ]
    }
   ],
   "source": [
    "c = np.random.random((3,4))\n",
    "print(c)"
   ]
  },
  {
   "cell_type": "code",
   "execution_count": 10,
   "id": "044d4a10",
   "metadata": {},
   "outputs": [],
   "source": [
    "# 텍스트 파일은 확장명은 txt인 파일을 의미하는 것이 아니고 \n",
    "# 확장명이 csv 또는 tsv인 파일을 의미한다.\n",
    "# savetxt() 메소드로 배열 객체를 텍스트 파일 형태로 저장할 \n",
    "# 수 있다.\n",
    "# savetxt('경로명', 배열명, delimiter='구분자')\n",
    "np.savetxt('./output/saved.csv', c, delimiter=',') # csv 파일은 데이터를 ','로 구분한다.\n",
    "np.savetxt('./output/saved.tsv', c, delimiter='\\t') # tsv 파일은 데이터를 tab으로 구분한다."
   ]
  },
  {
   "cell_type": "markdown",
   "id": "6eb2acd3",
   "metadata": {},
   "source": [
    "텍스트 파일로 저장된 numpy 배열 객체 읽어오기"
   ]
  },
  {
   "cell_type": "code",
   "execution_count": 11,
   "id": "f6815472",
   "metadata": {},
   "outputs": [
    {
     "name": "stdout",
     "output_type": "stream",
     "text": [
      "[[0.27674379 0.96515647 0.09580307 0.85726687]\n",
      " [0.87477342 0.66730365 0.11606102 0.75679613]\n",
      " [0.18725765 0.85948741 0.12947658 0.96885878]]\n",
      "[[0 0 0 0]\n",
      " [0 0 0 0]\n",
      " [0 0 0 0]]\n"
     ]
    }
   ],
   "source": [
    "# loadtxt() 메소드로 텍스트 파일로 저장된 numpy 배열 객체를 읽어올 수 있다.\n",
    "# loadtxt('경로명', dtype, delimiter='구분자')\n",
    "print(np.loadtxt('./output/saved.csv',dtype=np.float, delimiter=','))\n",
    "print(np.loadtxt('./output/saved.tsv',dtype=np.int, delimiter='\\t'))"
   ]
  },
  {
   "cell_type": "markdown",
   "id": "512980e3",
   "metadata": {},
   "source": [
    "배열(행렬) 연산 - 산술 연산"
   ]
  },
  {
   "cell_type": "code",
   "execution_count": 12,
   "id": "c522eaae",
   "metadata": {},
   "outputs": [
    {
     "name": "stdout",
     "output_type": "stream",
     "text": [
      "type: <class 'numpy.ndarray'>\n",
      "shape: (3, 3), dimension: 2, dtype: int32\n",
      "numpy 배열의 데이터\n",
      "[[1 2 3]\n",
      " [4 5 6]\n",
      " [7 8 9]]\n",
      "type: <class 'numpy.ndarray'>\n",
      "shape: (3, 3), dimension: 2, dtype: int32\n",
      "numpy 배열의 데이터\n",
      "[[9 8 7]\n",
      " [6 5 4]\n",
      " [3 2 1]]\n"
     ]
    }
   ],
   "source": [
    "a = np.arange(1,10).reshape(3,3)\n",
    "pprint(a)\n",
    "b = np.arange(9,0,-1).reshape(3,3)\n",
    "pprint(b)"
   ]
  },
  {
   "cell_type": "code",
   "execution_count": 13,
   "id": "4c91307a",
   "metadata": {},
   "outputs": [
    {
     "name": "stdout",
     "output_type": "stream",
     "text": [
      "[[10 10 10]\n",
      " [10 10 10]\n",
      " [10 10 10]]\n",
      "[[10 10 10]\n",
      " [10 10 10]\n",
      " [10 10 10]]\n"
     ]
    }
   ],
   "source": [
    "# 덧셈: +, add()\n",
    "print(a+b)\n",
    "print(np.add(a,b))"
   ]
  },
  {
   "cell_type": "code",
   "execution_count": 14,
   "id": "d70a4c10",
   "metadata": {},
   "outputs": [
    {
     "name": "stdout",
     "output_type": "stream",
     "text": [
      "[[-8 -6 -4]\n",
      " [-2  0  2]\n",
      " [ 4  6  8]]\n",
      "[[-8 -6 -4]\n",
      " [-2  0  2]\n",
      " [ 4  6  8]]\n"
     ]
    }
   ],
   "source": [
    "# 뺄셈: -, subtract()\n",
    "print(a-b)\n",
    "print(np.subtract(a,b))"
   ]
  },
  {
   "cell_type": "code",
   "execution_count": 15,
   "id": "fce685dd",
   "metadata": {},
   "outputs": [
    {
     "name": "stdout",
     "output_type": "stream",
     "text": [
      "[[ 9 16 21]\n",
      " [24 25 24]\n",
      " [21 16  9]]\n",
      "[[ 9 16 21]\n",
      " [24 25 24]\n",
      " [21 16  9]]\n"
     ]
    }
   ],
   "source": [
    "# 곱셈: *, multiply()\n",
    "print(a*b)\n",
    "print(np.multiply(a,b))"
   ]
  },
  {
   "cell_type": "code",
   "execution_count": 16,
   "id": "52015b9c",
   "metadata": {},
   "outputs": [
    {
     "name": "stdout",
     "output_type": "stream",
     "text": [
      "[[0.11111111 0.25       0.42857143]\n",
      " [0.66666667 1.         1.5       ]\n",
      " [2.33333333 4.         9.        ]]\n",
      "[[0.11111111 0.25       0.42857143]\n",
      " [0.66666667 1.         1.5       ]\n",
      " [2.33333333 4.         9.        ]]\n"
     ]
    }
   ],
   "source": [
    "# 나눗셈: /(//), divide()\n",
    "print(a/b)\n",
    "print(np.divide(a,b))"
   ]
  },
  {
   "cell_type": "code",
   "execution_count": 17,
   "id": "5b92f4cf",
   "metadata": {},
   "outputs": [
    {
     "name": "stdout",
     "output_type": "stream",
     "text": [
      "[[0 0 0]\n",
      " [0 1 1]\n",
      " [2 4 9]]\n",
      "[[1 2 3]\n",
      " [4 0 2]\n",
      " [1 0 0]]\n"
     ]
    }
   ],
   "source": [
    "print(a//b)\n",
    "print(a%b)"
   ]
  },
  {
   "cell_type": "code",
   "execution_count": 18,
   "id": "1b32a662",
   "metadata": {},
   "outputs": [
    {
     "name": "stdout",
     "output_type": "stream",
     "text": [
      "[[2.71828183e+00 7.38905610e+00 2.00855369e+01]\n",
      " [5.45981500e+01 1.48413159e+02 4.03428793e+02]\n",
      " [1.09663316e+03 2.98095799e+03 8.10308393e+03]]\n"
     ]
    }
   ],
   "source": [
    "# 지수\n",
    "print(np.exp(a))"
   ]
  },
  {
   "cell_type": "code",
   "execution_count": 19,
   "id": "876ea596",
   "metadata": {},
   "outputs": [
    {
     "name": "stdout",
     "output_type": "stream",
     "text": [
      "[[1.         1.41421356 1.73205081]\n",
      " [2.         2.23606798 2.44948974]\n",
      " [2.64575131 2.82842712 3.        ]]\n"
     ]
    }
   ],
   "source": [
    "# 제곱근\n",
    "print(np.sqrt(a))"
   ]
  },
  {
   "cell_type": "code",
   "execution_count": 20,
   "id": "7657b842",
   "metadata": {},
   "outputs": [
    {
     "name": "stdout",
     "output_type": "stream",
     "text": [
      "[[ 0.84147098  0.90929743  0.14112001]\n",
      " [-0.7568025  -0.95892427 -0.2794155 ]\n",
      " [ 0.6569866   0.98935825  0.41211849]]\n",
      "[[ 0.54030231 -0.41614684 -0.9899925 ]\n",
      " [-0.65364362  0.28366219  0.96017029]\n",
      " [ 0.75390225 -0.14550003 -0.91113026]]\n",
      "[[ 1.55740772 -2.18503986 -0.14254654]\n",
      " [ 1.15782128 -3.38051501 -0.29100619]\n",
      " [ 0.87144798 -6.79971146 -0.45231566]]\n"
     ]
    }
   ],
   "source": [
    "# 삼각함수\n",
    "print(np.sin(a))\n",
    "print(np.cos(a))\n",
    "print(np.tan(a))"
   ]
  },
  {
   "cell_type": "code",
   "execution_count": 21,
   "id": "d1e0aa39",
   "metadata": {},
   "outputs": [
    {
     "name": "stdout",
     "output_type": "stream",
     "text": [
      "[[0.         0.69314718 1.09861229]\n",
      " [1.38629436 1.60943791 1.79175947]\n",
      " [1.94591015 2.07944154 2.19722458]]\n"
     ]
    }
   ],
   "source": [
    "# 로그\n",
    "print(np.log(a))"
   ]
  },
  {
   "cell_type": "code",
   "execution_count": 22,
   "id": "83c08073",
   "metadata": {},
   "outputs": [
    {
     "name": "stdout",
     "output_type": "stream",
     "text": [
      "[[ 30  24  18]\n",
      " [ 84  69  54]\n",
      " [138 114  90]]\n"
     ]
    }
   ],
   "source": [
    "# 행렬의 내적\n",
    "print(np.dot(a,b))"
   ]
  },
  {
   "cell_type": "markdown",
   "id": "42fa8288",
   "metadata": {},
   "source": [
    "<img src=\"./images/1.png\" align=\"left\" width=\"800\"/>"
   ]
  },
  {
   "cell_type": "markdown",
   "id": "bcddcd9c",
   "metadata": {},
   "source": [
    "배열(행렬) 연산 - 비교 연산"
   ]
  },
  {
   "cell_type": "code",
   "execution_count": 23,
   "id": "440b6bea",
   "metadata": {},
   "outputs": [
    {
     "name": "stdout",
     "output_type": "stream",
     "text": [
      "[[False False False]\n",
      " [False  True False]\n",
      " [False False False]]\n"
     ]
    }
   ],
   "source": [
    "# 배열 요소별 비교 : >, >=, <, <=, ==, != \n",
    "print(a == b)"
   ]
  },
  {
   "cell_type": "code",
   "execution_count": 24,
   "id": "06665df5",
   "metadata": {},
   "outputs": [
    {
     "name": "stdout",
     "output_type": "stream",
     "text": [
      "False\n"
     ]
    }
   ],
   "source": [
    "# 배열 전체 비교: array_equal() 메소드\n",
    "print(np.array_equal(a,b))"
   ]
  },
  {
   "cell_type": "markdown",
   "id": "0c81eda4",
   "metadata": {},
   "source": [
    "집계 함수  \n",
    "\n",
    "numpy의 모든 집계 함수는 axis를 기준으로 계산하며 집계 함수에 axis를 지정하지 않으면 None이 기본값으로 사용된다.  "
   ]
  },
  {
   "cell_type": "code",
   "execution_count": 25,
   "id": "e29c6ab3",
   "metadata": {},
   "outputs": [
    {
     "name": "stdout",
     "output_type": "stream",
     "text": [
      "type: <class 'numpy.ndarray'>\n",
      "shape: (3, 3), dimension: 2, dtype: int32\n",
      "numpy 배열의 데이터\n",
      "[[1 2 3]\n",
      " [4 5 6]\n",
      " [7 8 9]]\n"
     ]
    }
   ],
   "source": [
    "a = np.arange(1,10).reshape(3,3)\n",
    "pprint(a)"
   ]
  },
  {
   "cell_type": "markdown",
   "id": "98a9636d",
   "metadata": {},
   "source": [
    "합계: 넘파이배열.sum(), np.sum(넘파이배열)"
   ]
  },
  {
   "cell_type": "code",
   "execution_count": 26,
   "id": "a719123f",
   "metadata": {},
   "outputs": [
    {
     "name": "stdout",
     "output_type": "stream",
     "text": [
      "45\n",
      "45\n",
      "45\n",
      "45\n"
     ]
    }
   ],
   "source": [
    "# axis=None\n",
    "# axis=None은 전체 배열을 행과 열을 구분하지 않고 전체 합계를 \n",
    "# 계산한다. \n",
    "# 생략시 기본값으로 사용된다.\n",
    "print(a.sum())\n",
    "print(a.sum(axis=None))\n",
    "print(np.sum(a))\n",
    "print(np.sum(a, axis=None))"
   ]
  },
  {
   "cell_type": "markdown",
   "id": "98a887c3",
   "metadata": {},
   "source": [
    "<img src=\"./images/numpyImage02.jpg\" align=\"left\" width=\"200\"/>"
   ]
  },
  {
   "cell_type": "code",
   "execution_count": 27,
   "id": "f85be891",
   "metadata": {},
   "outputs": [
    {
     "name": "stdout",
     "output_type": "stream",
     "text": [
      "[12 15 18]\n",
      "[12 15 18]\n"
     ]
    }
   ],
   "source": [
    "# axis=0\n",
    "# axis=0은 행을 기준으로 각 행에 동일한 인덱스 요소를 그룹으로\n",
    "# 연산한다.\n",
    "# 각 열의 합계\n",
    "print(a.sum(axis=0))\n",
    "print(np.sum(a, axis=0))"
   ]
  },
  {
   "cell_type": "markdown",
   "id": "a023b860",
   "metadata": {},
   "source": [
    "<img src=\"./images/numpyImage03.jpg\" align=\"left\" width=\"200\"/>"
   ]
  },
  {
   "cell_type": "code",
   "execution_count": 28,
   "id": "2bdbbeff",
   "metadata": {},
   "outputs": [
    {
     "name": "stdout",
     "output_type": "stream",
     "text": [
      "[ 6 15 24]\n",
      "[ 6 15 24]\n"
     ]
    }
   ],
   "source": [
    "# axis=1\n",
    "# axis=1은 열을 기준으로 각 열에 동일한 인덱스 요소를 그룹으로\n",
    "# 연산한다.\n",
    "# 각 행의 합계\n",
    "print(a.sum(axis=1))\n",
    "print(np.sum(a, axis=1))"
   ]
  },
  {
   "cell_type": "markdown",
   "id": "69520fa8",
   "metadata": {},
   "source": [
    "<img src=\"./images/numpyImage04.jpg\" align=\"left\" width=\"200\"/>"
   ]
  },
  {
   "cell_type": "markdown",
   "id": "9d662287",
   "metadata": {},
   "source": [
    "최대값: 넘파이배열.max(), np.max(넘파이배열)  \n",
    "최소값: 넘파이배열.min(), np.min(넘파이배열)  "
   ]
  },
  {
   "cell_type": "code",
   "execution_count": 29,
   "id": "6a1f9a94",
   "metadata": {},
   "outputs": [
    {
     "name": "stdout",
     "output_type": "stream",
     "text": [
      "9\n",
      "9\n",
      "9\n",
      "9\n",
      "1\n",
      "1\n",
      "1\n",
      "1\n"
     ]
    }
   ],
   "source": [
    "print(a.max()) \n",
    "print(a.max(axis=None))\n",
    "print(np.max(a)) \n",
    "print(np.max(a, axis=None)) \n",
    "\n",
    "print(a.min()) \n",
    "print(a.min(axis=None))\n",
    "print(np.min(a)) \n",
    "print(np.min(a, axis=None)) "
   ]
  },
  {
   "cell_type": "code",
   "execution_count": 30,
   "id": "d66e11a2",
   "metadata": {},
   "outputs": [
    {
     "name": "stdout",
     "output_type": "stream",
     "text": [
      "[7 8 9]\n",
      "[7 8 9]\n",
      "[1 2 3]\n",
      "[1 2 3]\n"
     ]
    }
   ],
   "source": [
    "print(a.max(axis=0))\n",
    "print(np.max(a, axis=0)) \n",
    "    \n",
    "print(a.min(axis=0))\n",
    "print(np.min(a, axis=0)) "
   ]
  },
  {
   "cell_type": "code",
   "execution_count": 31,
   "id": "f1aceea2",
   "metadata": {
    "scrolled": true
   },
   "outputs": [
    {
     "name": "stdout",
     "output_type": "stream",
     "text": [
      "[3 6 9]\n",
      "[3 6 9]\n",
      "[1 4 7]\n",
      "[1 4 7]\n"
     ]
    }
   ],
   "source": [
    "print(a.max(axis=1))\n",
    "print(np.max(a, axis=1)) \n",
    "\n",
    "print(a.min(axis=1))\n",
    "print(np.min(a, axis=1)) "
   ]
  },
  {
   "cell_type": "markdown",
   "id": "7f675164",
   "metadata": {},
   "source": [
    "누적 합계: 넘파이배열.cumsum(), np.cumsum(넘파이배열)"
   ]
  },
  {
   "cell_type": "code",
   "execution_count": 32,
   "id": "7a99eeb6",
   "metadata": {},
   "outputs": [
    {
     "name": "stdout",
     "output_type": "stream",
     "text": [
      "[ 1  3  6 10 15 21 28 36 45]\n",
      "[ 1  3  6 10 15 21 28 36 45]\n",
      "[ 1  3  6 10 15 21 28 36 45]\n",
      "[ 1  3  6 10 15 21 28 36 45]\n"
     ]
    }
   ],
   "source": [
    "print(a.cumsum()) \n",
    "print(a.cumsum(axis=None))\n",
    "print(np.cumsum(a)) \n",
    "print(np.cumsum(a, axis=None)) "
   ]
  },
  {
   "cell_type": "code",
   "execution_count": 33,
   "id": "9ac58c4b",
   "metadata": {},
   "outputs": [
    {
     "name": "stdout",
     "output_type": "stream",
     "text": [
      "[[ 1  2  3]\n",
      " [ 5  7  9]\n",
      " [12 15 18]]\n",
      "[[ 1  2  3]\n",
      " [ 5  7  9]\n",
      " [12 15 18]]\n"
     ]
    }
   ],
   "source": [
    "print(a.cumsum(axis=0))\n",
    "print(np.cumsum(a, axis=0)) "
   ]
  },
  {
   "cell_type": "code",
   "execution_count": 34,
   "id": "9523691e",
   "metadata": {
    "scrolled": true
   },
   "outputs": [
    {
     "name": "stdout",
     "output_type": "stream",
     "text": [
      "[[ 1  3  6]\n",
      " [ 4  9 15]\n",
      " [ 7 15 24]]\n",
      "[[ 1  3  6]\n",
      " [ 4  9 15]\n",
      " [ 7 15 24]]\n"
     ]
    }
   ],
   "source": [
    "print(a.cumsum(axis=1))\n",
    "print(np.cumsum(a, axis=1))"
   ]
  },
  {
   "cell_type": "markdown",
   "id": "899f1811",
   "metadata": {},
   "source": [
    "평균: 넘파이배열.mean(), np.mean(넘파이배열)"
   ]
  },
  {
   "cell_type": "code",
   "execution_count": 35,
   "id": "32382e1f",
   "metadata": {},
   "outputs": [
    {
     "name": "stdout",
     "output_type": "stream",
     "text": [
      "5.0\n",
      "5.0\n",
      "5.0\n",
      "5.0\n"
     ]
    }
   ],
   "source": [
    "print(a.mean()) \n",
    "print(a.mean(axis=None))\n",
    "print(np.mean(a)) \n",
    "print(np.mean(a, axis=None)) "
   ]
  },
  {
   "cell_type": "code",
   "execution_count": 36,
   "id": "ff43c5c6",
   "metadata": {},
   "outputs": [
    {
     "name": "stdout",
     "output_type": "stream",
     "text": [
      "[4. 5. 6.]\n",
      "[4. 5. 6.]\n"
     ]
    }
   ],
   "source": [
    "print(a.mean(axis=0))\n",
    "print(np.mean(a, axis=0)) "
   ]
  },
  {
   "cell_type": "code",
   "execution_count": 37,
   "id": "f9bdeee7",
   "metadata": {
    "scrolled": true
   },
   "outputs": [
    {
     "name": "stdout",
     "output_type": "stream",
     "text": [
      "[2. 5. 8.]\n",
      "[2. 5. 8.]\n"
     ]
    }
   ],
   "source": [
    "print(a.mean(axis=1))\n",
    "print(np.mean(a, axis=1))"
   ]
  },
  {
   "cell_type": "markdown",
   "id": "176c1b5e",
   "metadata": {},
   "source": [
    "중위수: np.median(넘파이배열)"
   ]
  },
  {
   "cell_type": "code",
   "execution_count": 38,
   "id": "cbe1dbeb",
   "metadata": {},
   "outputs": [
    {
     "name": "stdout",
     "output_type": "stream",
     "text": [
      "5.0\n",
      "5.0\n",
      "[4. 5. 6.]\n",
      "[2. 5. 8.]\n"
     ]
    }
   ],
   "source": [
    "print(np.median(a)) \n",
    "print(np.median(a, axis=None))\n",
    "print(np.median(a, axis=0))\n",
    "print(np.median(a, axis=1))"
   ]
  },
  {
   "cell_type": "markdown",
   "id": "7aba6287",
   "metadata": {},
   "source": [
    "상관계수: np.corrcoef(넘파이배열)"
   ]
  },
  {
   "cell_type": "code",
   "execution_count": 39,
   "id": "9e646a2d",
   "metadata": {},
   "outputs": [
    {
     "name": "stdout",
     "output_type": "stream",
     "text": [
      "[[1. 1. 1.]\n",
      " [1. 1. 1.]\n",
      " [1. 1. 1.]]\n"
     ]
    }
   ],
   "source": [
    "print(np.corrcoef(a)) # axis를 사용하지 않는다. "
   ]
  },
  {
   "cell_type": "markdown",
   "id": "50a17d3a",
   "metadata": {},
   "source": [
    "표준편차: 넘파이배열.std(), np.std(넘파이배열)"
   ]
  },
  {
   "cell_type": "code",
   "execution_count": 40,
   "id": "0ac1cf3b",
   "metadata": {},
   "outputs": [
    {
     "name": "stdout",
     "output_type": "stream",
     "text": [
      "2.581988897471611\n",
      "2.581988897471611\n",
      "2.581988897471611\n",
      "2.581988897471611\n"
     ]
    }
   ],
   "source": [
    "print(a.std()) \n",
    "print(a.std(axis=None))\n",
    "print(np.std(a)) \n",
    "print(np.std(a, axis=None)) "
   ]
  },
  {
   "cell_type": "code",
   "execution_count": 41,
   "id": "e061479d",
   "metadata": {},
   "outputs": [
    {
     "name": "stdout",
     "output_type": "stream",
     "text": [
      "[2.44948974 2.44948974 2.44948974]\n",
      "[2.44948974 2.44948974 2.44948974]\n"
     ]
    }
   ],
   "source": [
    "print(a.std(axis=0))\n",
    "print(np.std(a, axis=0)) "
   ]
  },
  {
   "cell_type": "code",
   "execution_count": 42,
   "id": "e449c138",
   "metadata": {},
   "outputs": [
    {
     "name": "stdout",
     "output_type": "stream",
     "text": [
      "[0.81649658 0.81649658 0.81649658]\n",
      "[0.81649658 0.81649658 0.81649658]\n"
     ]
    }
   ],
   "source": [
    "print(a.std(axis=1))\n",
    "print(np.std(a, axis=1))"
   ]
  },
  {
   "cell_type": "markdown",
   "id": "c505196a",
   "metadata": {},
   "source": [
    "브로드캐스팅\n",
    "\n",
    "shape이 같은 두 배열에 대한 이항 연산은 배열 요소별로 실행된다.  \n",
    "두 배열의 shape이 다를 경우 두 배열 간의 형상(모양)을 맞추는 그림과 같은 브로드캐스팅 과정을 거쳐서 실행된다.  "
   ]
  },
  {
   "cell_type": "markdown",
   "id": "3a6cb5ea",
   "metadata": {},
   "source": [
    "<img src=\"./images/numpyImage05.jpg\" align=\"left\" width=\"900\"/>"
   ]
  },
  {
   "cell_type": "markdown",
   "id": "5f8f5c98",
   "metadata": {},
   "source": [
    "shape이 같은 두 배열의 연산"
   ]
  },
  {
   "cell_type": "code",
   "execution_count": 91,
   "id": "f544325a",
   "metadata": {
    "scrolled": true
   },
   "outputs": [
    {
     "name": "stdout",
     "output_type": "stream",
     "text": [
      "[[ 1  2  3  4  5  6]\n",
      " [ 7  8  9 10 11 12]\n",
      " [13 14 15 16 17 18]\n",
      " [19 20 21 22 23 24]]\n",
      "[[25 26 27 28 29 30]\n",
      " [31 32 33 34 35 36]\n",
      " [37 38 39 40 41 42]\n",
      " [43 44 45 46 47 48]]\n"
     ]
    }
   ],
   "source": [
    "a = np.arange(1,25).reshape(4,6)\n",
    "print(a)\n",
    "b = np.arange(25,49).reshape(4,6)\n",
    "print(b)"
   ]
  },
  {
   "cell_type": "code",
   "execution_count": 44,
   "id": "c44c5dd9",
   "metadata": {},
   "outputs": [
    {
     "name": "stdout",
     "output_type": "stream",
     "text": [
      "[[26 28 30 32 34 36]\n",
      " [38 40 42 44 46 48]\n",
      " [50 52 54 56 58 60]\n",
      " [62 64 66 68 70 72]]\n"
     ]
    }
   ],
   "source": [
    "# shape이 같은 배열이 이항 연산을 할 경우 위치가 같은 요소 단위로 실행된다.\n",
    "print(a+b)"
   ]
  },
  {
   "cell_type": "markdown",
   "id": "6bf3215c",
   "metadata": {},
   "source": [
    "shape이 다른 두 배열의 연산\n",
    "\n",
    "shape이 다른 두 배열 사이의 이항 연산에서 브로드캐스팅이 발생시 두 배열을 같은 shape으로 만든 후 연산을 실행한다."
   ]
  },
  {
   "cell_type": "code",
   "execution_count": 47,
   "id": "78c9decc",
   "metadata": {},
   "outputs": [
    {
     "name": "stdout",
     "output_type": "stream",
     "text": [
      "[[ 1  2  3  4  5  6]\n",
      " [ 7  8  9 10 11 12]\n",
      " [13 14 15 16 17 18]\n",
      " [19 20 21 22 23 24]]\n",
      "[[101 102 103 104 105 106]\n",
      " [107 108 109 110 111 112]\n",
      " [113 114 115 116 117 118]\n",
      " [119 120 121 122 123 124]]\n"
     ]
    }
   ],
   "source": [
    "# 배열과 스칼라(단일 값)의 연산\n",
    "# 배열과 스칼라 사이의 이항 연산 시 스칼라를 배열로 변환한다.\n",
    "a = np.arange(1,25).reshape(4,6)\n",
    "print(a)\n",
    "print(a + 100)"
   ]
  },
  {
   "cell_type": "code",
   "execution_count": 50,
   "id": "1c45f332",
   "metadata": {},
   "outputs": [
    {
     "name": "stdout",
     "output_type": "stream",
     "text": [
      "[[100 100 100 100 100 100]\n",
      " [100 100 100 100 100 100]\n",
      " [100 100 100 100 100 100]\n",
      " [100 100 100 100 100 100]]\n",
      "[[101 102 103 104 105 106]\n",
      " [107 108 109 110 111 112]\n",
      " [113 114 115 116 117 118]\n",
      " [119 120 121 122 123 124]]\n"
     ]
    }
   ],
   "source": [
    "# a + 100은 다음과 같은 과정을 거쳐서 처리된다.\n",
    "new_arr = np.full_like(a, 100)\n",
    "print(new_arr)\n",
    "print(a + new_arr)"
   ]
  },
  {
   "cell_type": "code",
   "execution_count": 56,
   "id": "7445c992",
   "metadata": {},
   "outputs": [
    {
     "name": "stdout",
     "output_type": "stream",
     "text": [
      "[[0 1 2 3 4]]\n",
      "[[0]\n",
      " [1]\n",
      " [2]\n",
      " [3]\n",
      " [4]]\n",
      "[[0 1 2 3 4]\n",
      " [1 2 3 4 5]\n",
      " [2 3 4 5 6]\n",
      " [3 4 5 6 7]\n",
      " [4 5 6 7 8]]\n"
     ]
    }
   ],
   "source": [
    "# shape이 다른 배열의 연산\n",
    "a = np.arange(5).reshape(1,5) # np.arange(5) 1차원 배열, reshape(1,5) 2차원 배열\n",
    "print(a)\n",
    "b = np.arange(5).reshape(5,1)\n",
    "print(b)\n",
    "print(a+b)"
   ]
  },
  {
   "cell_type": "markdown",
   "id": "d39015ee",
   "metadata": {},
   "source": [
    "벡터 연산\n",
    "\n",
    "numpy는 벡터 연산을 지원한다.  \n",
    "numpy 집합 연산에는 벡터화 기능이 적용되어 있어서 벡터 처리에 대해 벡터 연산을 적용할 경우 처리 속도가 100배 이상 빠르다.  "
   ]
  },
  {
   "cell_type": "code",
   "execution_count": 57,
   "id": "b8b14de4",
   "metadata": {},
   "outputs": [],
   "source": [
    "a = np.arange(10000000, dtype=np.int64)"
   ]
  },
  {
   "cell_type": "code",
   "execution_count": 60,
   "id": "a91ff35c",
   "metadata": {},
   "outputs": [
    {
     "name": "stdout",
     "output_type": "stream",
     "text": [
      "49999995000000\n",
      "Wall time: 2.51 s\n"
     ]
    }
   ],
   "source": [
    "%%time\n",
    "result = 0\n",
    "for i in a:\n",
    "    result += i\n",
    "print(result) # 49999995000000, Wall time: 2.51 s"
   ]
  },
  {
   "cell_type": "code",
   "execution_count": 61,
   "id": "0f960269",
   "metadata": {},
   "outputs": [
    {
     "name": "stdout",
     "output_type": "stream",
     "text": [
      "49999995000000\n",
      "Wall time: 7.99 ms\n"
     ]
    }
   ],
   "source": [
    "%%time\n",
    "result = np.sum(a)\n",
    "print(result) # 49999995000000, Wall time: 7.99 ms"
   ]
  },
  {
   "cell_type": "markdown",
   "id": "24d568a3",
   "metadata": {},
   "source": [
    "배열 복사\n",
    "\n",
    "ndarray 배열 객체에 대해 인덱싱, 슬라이싱이 반환하는 배열은 새로운 객체가 아닌 기존 배열의 view이다.  \n",
    "반환된 배열의 값을 변경하면 원본 배열에 변한 값이 반영된다. - 얕은 복사 => 사본을 변경해도 원본이 변경된다.  "
   ]
  },
  {
   "cell_type": "code",
   "execution_count": 77,
   "id": "974c7075",
   "metadata": {},
   "outputs": [
    {
     "name": "stdout",
     "output_type": "stream",
     "text": [
      "[[6 5 8]\n",
      " [6 3 5]\n",
      " [8 0 7]]\n",
      "[6 6 8]\n",
      "[999 999 999]\n",
      "[[999   5   8]\n",
      " [999   3   5]\n",
      " [999   0   7]]\n"
     ]
    }
   ],
   "source": [
    "a = np.random.randint(0,9,(3,3))\n",
    "print(a)\n",
    "print(a[:,0]) # 행은 상관없이 0번째 열만 슬라이싱 한다.\n",
    "a[:,0] = 999\n",
    "print(a[:,0])\n",
    "print(a)"
   ]
  },
  {
   "cell_type": "markdown",
   "id": "bb8332b4",
   "metadata": {},
   "source": [
    "기존 배열로 부터 새로운 배열을 생성하기 위해 copy() 메소드를 사용한다.  \n",
    "copy() 메소드로 복사된 배열은 원본 배열과 완전히 다른 별도의 객체가 된다. - 깊은 복사  \n",
    "\n",
    "넘파이배열.copy(), np.copy(넘파이배열)"
   ]
  },
  {
   "cell_type": "code",
   "execution_count": 81,
   "id": "c4bf988a",
   "metadata": {},
   "outputs": [
    {
     "name": "stdout",
     "output_type": "stream",
     "text": [
      "[[2 6 4]\n",
      " [3 3 3]\n",
      " [0 1 2]]\n",
      "[[2 6 4]\n",
      " [3 3 3]\n",
      " [0 1 2]]\n",
      "[[777   6   4]\n",
      " [777   3   3]\n",
      " [777   1   2]]\n",
      "[[2 6 4]\n",
      " [3 3 3]\n",
      " [0 1 2]]\n"
     ]
    }
   ],
   "source": [
    "a = np.random.randint(0,9,(3,3))\n",
    "print(a)\n",
    "copied_a = np.copy(a)\n",
    "print(copied_a)\n",
    "copied_a[:,0] = 777\n",
    "print(copied_a)\n",
    "print(a)"
   ]
  },
  {
   "cell_type": "markdown",
   "id": "cd5be99a",
   "metadata": {},
   "source": [
    "배열 정렬\n",
    "\n",
    "ndarray 객체는 axis를 기준으로 요소를 정렬하는 sort() 메소드를 제공한다.  "
   ]
  },
  {
   "cell_type": "code",
   "execution_count": 82,
   "id": "114063d6",
   "metadata": {},
   "outputs": [
    {
     "name": "stdout",
     "output_type": "stream",
     "text": [
      "[[0.35025582 0.00517419 0.8257448 ]\n",
      " [0.3796336  0.74116043 0.93838401]\n",
      " [0.59317235 0.84155826 0.09343039]]\n"
     ]
    }
   ],
   "source": [
    "unsorted_arr = np.random.random((3,3))\n",
    "print(unsorted_arr)"
   ]
  },
  {
   "cell_type": "code",
   "execution_count": 111,
   "id": "6bdb6f17",
   "metadata": {},
   "outputs": [
    {
     "name": "stdout",
     "output_type": "stream",
     "text": [
      "[[0.35025582 0.00517419 0.8257448 ]\n",
      " [0.3796336  0.74116043 0.93838401]\n",
      " [0.59317235 0.84155826 0.09343039]]\n",
      "[[0.35025582 0.00517419 0.8257448 ]\n",
      " [0.3796336  0.74116043 0.93838401]\n",
      " [0.59317235 0.84155826 0.09343039]]\n",
      "[[0.35025582 0.00517419 0.8257448 ]\n",
      " [0.3796336  0.74116043 0.93838401]\n",
      " [0.59317235 0.84155826 0.09343039]]\n",
      "[[0.35025582 0.00517419 0.8257448 ]\n",
      " [0.3796336  0.74116043 0.93838401]\n",
      " [0.59317235 0.84155826 0.09343039]]\n"
     ]
    }
   ],
   "source": [
    "# 정렬 작업을 위해 복사본을 만든다.\n",
    "unsorted_arr1 = unsorted_arr.copy()\n",
    "print(unsorted_arr1)\n",
    "unsorted_arr2 = unsorted_arr.copy()\n",
    "print(unsorted_arr2)\n",
    "unsorted_arr3 = unsorted_arr.copy()\n",
    "print(unsorted_arr3)\n",
    "unsorted_arr4 = unsorted_arr.copy()\n",
    "print(unsorted_arr4)"
   ]
  },
  {
   "cell_type": "markdown",
   "id": "0bd79038",
   "metadata": {},
   "source": [
    "넘파이배열.sort(): 정렬을 실행한 결과가 넘파이 배열에 바로 반영된다.  \n",
    "sort() 메소드의 axis 기본값은 None이 아니고 -1이다.  \n",
    "-1은 현재 배열의 마지막 axis를 의미하고 unsorted_arr는 2차원이므로 axis가 0, 1이 존재하고 이 때 마지막 axis는 1이다.  "
   ]
  },
  {
   "cell_type": "code",
   "execution_count": 90,
   "id": "d6374e5c",
   "metadata": {
    "scrolled": true
   },
   "outputs": [
    {
     "name": "stdout",
     "output_type": "stream",
     "text": [
      "[[0.00517419 0.35025582 0.8257448 ]\n",
      " [0.3796336  0.74116043 0.93838401]\n",
      " [0.09343039 0.59317235 0.84155826]]\n",
      "[[0.00517419 0.35025582 0.8257448 ]\n",
      " [0.3796336  0.74116043 0.93838401]\n",
      " [0.09343039 0.59317235 0.84155826]]\n",
      "[[0.00517419 0.35025582 0.8257448 ]\n",
      " [0.3796336  0.74116043 0.93838401]\n",
      " [0.09343039 0.59317235 0.84155826]]\n"
     ]
    }
   ],
   "source": [
    "unsorted_arr1.sort()\n",
    "print(unsorted_arr1)\n",
    "unsorted_arr2.sort(axis=-1)\n",
    "print(unsorted_arr2)\n",
    "unsorted_arr3.sort(axis=1)\n",
    "print(unsorted_arr3)"
   ]
  },
  {
   "cell_type": "markdown",
   "id": "32da41a0",
   "metadata": {},
   "source": [
    "np.sort(넘파이배열): 정렬을 실행한 결과를 리턴한다.  "
   ]
  },
  {
   "cell_type": "code",
   "execution_count": 112,
   "id": "5ee42688",
   "metadata": {},
   "outputs": [
    {
     "name": "stdout",
     "output_type": "stream",
     "text": [
      "[[0.35025582 0.00517419 0.8257448 ]\n",
      " [0.3796336  0.74116043 0.93838401]\n",
      " [0.59317235 0.84155826 0.09343039]]\n"
     ]
    }
   ],
   "source": [
    "np.sort(unsorted_arr4, axis=0)\n",
    "print(unsorted_arr4)"
   ]
  },
  {
   "cell_type": "code",
   "execution_count": 113,
   "id": "32296fdc",
   "metadata": {},
   "outputs": [
    {
     "name": "stdout",
     "output_type": "stream",
     "text": [
      "[[0.35025582 0.00517419 0.8257448 ]\n",
      " [0.3796336  0.74116043 0.93838401]\n",
      " [0.59317235 0.84155826 0.09343039]]\n",
      "[[0.35025582 0.00517419 0.09343039]\n",
      " [0.3796336  0.74116043 0.8257448 ]\n",
      " [0.59317235 0.84155826 0.93838401]]\n"
     ]
    }
   ],
   "source": [
    "a = np.sort(unsorted_arr4, axis=0)\n",
    "print(unsorted_arr4)\n",
    "print(a)"
   ]
  },
  {
   "cell_type": "code",
   "execution_count": 114,
   "id": "faa6d20a",
   "metadata": {},
   "outputs": [
    {
     "name": "stdout",
     "output_type": "stream",
     "text": [
      "[[0.59317235 0.84155826 0.93838401]\n",
      " [0.3796336  0.74116043 0.8257448 ]\n",
      " [0.35025582 0.00517419 0.09343039]]\n"
     ]
    }
   ],
   "source": [
    "b = np.sort(unsorted_arr4, axis=0)[::-1] # 내림차순 정렬\n",
    "print(b)"
   ]
  },
  {
   "cell_type": "code",
   "execution_count": 108,
   "id": "033a0afc",
   "metadata": {},
   "outputs": [
    {
     "name": "stdout",
     "output_type": "stream",
     "text": [
      "[[0.35025582 0.00517419 0.09343039]\n",
      " [0.3796336  0.74116043 0.8257448 ]\n",
      " [0.59317235 0.84155826 0.93838401]]\n"
     ]
    }
   ],
   "source": [
    "unsorted_arr4.sort(axis=0)\n",
    "print(unsorted_arr4)"
   ]
  }
 ],
 "metadata": {
  "kernelspec": {
   "display_name": "Python 3",
   "language": "python",
   "name": "python3"
  },
  "language_info": {
   "codemirror_mode": {
    "name": "ipython",
    "version": 3
   },
   "file_extension": ".py",
   "mimetype": "text/x-python",
   "name": "python",
   "nbconvert_exporter": "python",
   "pygments_lexer": "ipython3",
   "version": "3.6.8"
  }
 },
 "nbformat": 4,
 "nbformat_minor": 5
}
